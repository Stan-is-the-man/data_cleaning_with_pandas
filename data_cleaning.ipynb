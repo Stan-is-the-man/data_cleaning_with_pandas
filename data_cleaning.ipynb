{
 "cells": [
  {
   "cell_type": "code",
   "execution_count": 206,
   "metadata": {
    "collapsed": true
   },
   "outputs": [],
   "source": [
    "import pandas as pd"
   ]
  },
  {
   "cell_type": "markdown",
   "metadata": {},
   "source": [
    "# Dataset Overview"
   ]
  },
  {
   "cell_type": "code",
   "execution_count": 207,
   "metadata": {},
   "outputs": [],
   "source": [
    "df_netflix = pd.read_csv('netflix_titles.csv')"
   ]
  },
  {
   "cell_type": "code",
   "execution_count": 208,
   "metadata": {},
   "outputs": [
    {
     "data": {
      "text/plain": "     show_id     type                  title         director   \n0         s1    Movie   Dick Johnson Is Dead  Kirsten Johnson  \\\n1         s2  TV Show          Blood & Water              NaN   \n2         s3  TV Show              Ganglands  Julien Leclercq   \n3         s4  TV Show  Jailbirds New Orleans              NaN   \n4         s5  TV Show           Kota Factory              NaN   \n...      ...      ...                    ...              ...   \n8802   s8803    Movie                 Zodiac    David Fincher   \n8803   s8804  TV Show            Zombie Dumb              NaN   \n8804   s8805    Movie             Zombieland  Ruben Fleischer   \n8805   s8806    Movie                   Zoom     Peter Hewitt   \n8806   s8807    Movie                 Zubaan      Mozez Singh   \n\n                                                   cast        country   \n0                                                   NaN  United States  \\\n1     Ama Qamata, Khosi Ngema, Gail Mabalane, Thaban...   South Africa   \n2     Sami Bouajila, Tracy Gotoas, Samuel Jouy, Nabi...            NaN   \n3                                                   NaN            NaN   \n4     Mayur More, Jitendra Kumar, Ranjan Raj, Alam K...          India   \n...                                                 ...            ...   \n8802  Mark Ruffalo, Jake Gyllenhaal, Robert Downey J...  United States   \n8803                                                NaN            NaN   \n8804  Jesse Eisenberg, Woody Harrelson, Emma Stone, ...  United States   \n8805  Tim Allen, Courteney Cox, Chevy Chase, Kate Ma...  United States   \n8806  Vicky Kaushal, Sarah-Jane Dias, Raaghav Chanan...          India   \n\n              date_added  release_year rating   duration   \n0     September 25, 2021          2020  PG-13     90 min  \\\n1     September 24, 2021          2021  TV-MA  2 Seasons   \n2     September 24, 2021          2021  TV-MA   1 Season   \n3     September 24, 2021          2021  TV-MA   1 Season   \n4     September 24, 2021          2021  TV-MA  2 Seasons   \n...                  ...           ...    ...        ...   \n8802   November 20, 2019          2007      R    158 min   \n8803        July 1, 2019          2018  TV-Y7  2 Seasons   \n8804    November 1, 2019          2009      R     88 min   \n8805    January 11, 2020          2006     PG     88 min   \n8806       March 2, 2019          2015  TV-14    111 min   \n\n                                              listed_in   \n0                                         Documentaries  \\\n1       International TV Shows, TV Dramas, TV Mysteries   \n2     Crime TV Shows, International TV Shows, TV Act...   \n3                                Docuseries, Reality TV   \n4     International TV Shows, Romantic TV Shows, TV ...   \n...                                                 ...   \n8802                     Cult Movies, Dramas, Thrillers   \n8803             Kids' TV, Korean TV Shows, TV Comedies   \n8804                            Comedies, Horror Movies   \n8805                 Children & Family Movies, Comedies   \n8806     Dramas, International Movies, Music & Musicals   \n\n                                            description  \n0     As her father nears the end of his life, filmm...  \n1     After crossing paths at a party, a Cape Town t...  \n2     To protect his family from a powerful drug lor...  \n3     Feuds, flirtations and toilet talk go down amo...  \n4     In a city of coaching centers known to train I...  \n...                                                 ...  \n8802  A political cartoonist, a crime reporter and a...  \n8803  While living alone in a spooky town, a young g...  \n8804  Looking to survive in a world taken over by zo...  \n8805  Dragged from civilian life, a former superhero...  \n8806  A scrappy but poor boy worms his way into a ty...  \n\n[8807 rows x 12 columns]",
      "text/html": "<div>\n<style scoped>\n    .dataframe tbody tr th:only-of-type {\n        vertical-align: middle;\n    }\n\n    .dataframe tbody tr th {\n        vertical-align: top;\n    }\n\n    .dataframe thead th {\n        text-align: right;\n    }\n</style>\n<table border=\"1\" class=\"dataframe\">\n  <thead>\n    <tr style=\"text-align: right;\">\n      <th></th>\n      <th>show_id</th>\n      <th>type</th>\n      <th>title</th>\n      <th>director</th>\n      <th>cast</th>\n      <th>country</th>\n      <th>date_added</th>\n      <th>release_year</th>\n      <th>rating</th>\n      <th>duration</th>\n      <th>listed_in</th>\n      <th>description</th>\n    </tr>\n  </thead>\n  <tbody>\n    <tr>\n      <th>0</th>\n      <td>s1</td>\n      <td>Movie</td>\n      <td>Dick Johnson Is Dead</td>\n      <td>Kirsten Johnson</td>\n      <td>NaN</td>\n      <td>United States</td>\n      <td>September 25, 2021</td>\n      <td>2020</td>\n      <td>PG-13</td>\n      <td>90 min</td>\n      <td>Documentaries</td>\n      <td>As her father nears the end of his life, filmm...</td>\n    </tr>\n    <tr>\n      <th>1</th>\n      <td>s2</td>\n      <td>TV Show</td>\n      <td>Blood &amp; Water</td>\n      <td>NaN</td>\n      <td>Ama Qamata, Khosi Ngema, Gail Mabalane, Thaban...</td>\n      <td>South Africa</td>\n      <td>September 24, 2021</td>\n      <td>2021</td>\n      <td>TV-MA</td>\n      <td>2 Seasons</td>\n      <td>International TV Shows, TV Dramas, TV Mysteries</td>\n      <td>After crossing paths at a party, a Cape Town t...</td>\n    </tr>\n    <tr>\n      <th>2</th>\n      <td>s3</td>\n      <td>TV Show</td>\n      <td>Ganglands</td>\n      <td>Julien Leclercq</td>\n      <td>Sami Bouajila, Tracy Gotoas, Samuel Jouy, Nabi...</td>\n      <td>NaN</td>\n      <td>September 24, 2021</td>\n      <td>2021</td>\n      <td>TV-MA</td>\n      <td>1 Season</td>\n      <td>Crime TV Shows, International TV Shows, TV Act...</td>\n      <td>To protect his family from a powerful drug lor...</td>\n    </tr>\n    <tr>\n      <th>3</th>\n      <td>s4</td>\n      <td>TV Show</td>\n      <td>Jailbirds New Orleans</td>\n      <td>NaN</td>\n      <td>NaN</td>\n      <td>NaN</td>\n      <td>September 24, 2021</td>\n      <td>2021</td>\n      <td>TV-MA</td>\n      <td>1 Season</td>\n      <td>Docuseries, Reality TV</td>\n      <td>Feuds, flirtations and toilet talk go down amo...</td>\n    </tr>\n    <tr>\n      <th>4</th>\n      <td>s5</td>\n      <td>TV Show</td>\n      <td>Kota Factory</td>\n      <td>NaN</td>\n      <td>Mayur More, Jitendra Kumar, Ranjan Raj, Alam K...</td>\n      <td>India</td>\n      <td>September 24, 2021</td>\n      <td>2021</td>\n      <td>TV-MA</td>\n      <td>2 Seasons</td>\n      <td>International TV Shows, Romantic TV Shows, TV ...</td>\n      <td>In a city of coaching centers known to train I...</td>\n    </tr>\n    <tr>\n      <th>...</th>\n      <td>...</td>\n      <td>...</td>\n      <td>...</td>\n      <td>...</td>\n      <td>...</td>\n      <td>...</td>\n      <td>...</td>\n      <td>...</td>\n      <td>...</td>\n      <td>...</td>\n      <td>...</td>\n      <td>...</td>\n    </tr>\n    <tr>\n      <th>8802</th>\n      <td>s8803</td>\n      <td>Movie</td>\n      <td>Zodiac</td>\n      <td>David Fincher</td>\n      <td>Mark Ruffalo, Jake Gyllenhaal, Robert Downey J...</td>\n      <td>United States</td>\n      <td>November 20, 2019</td>\n      <td>2007</td>\n      <td>R</td>\n      <td>158 min</td>\n      <td>Cult Movies, Dramas, Thrillers</td>\n      <td>A political cartoonist, a crime reporter and a...</td>\n    </tr>\n    <tr>\n      <th>8803</th>\n      <td>s8804</td>\n      <td>TV Show</td>\n      <td>Zombie Dumb</td>\n      <td>NaN</td>\n      <td>NaN</td>\n      <td>NaN</td>\n      <td>July 1, 2019</td>\n      <td>2018</td>\n      <td>TV-Y7</td>\n      <td>2 Seasons</td>\n      <td>Kids' TV, Korean TV Shows, TV Comedies</td>\n      <td>While living alone in a spooky town, a young g...</td>\n    </tr>\n    <tr>\n      <th>8804</th>\n      <td>s8805</td>\n      <td>Movie</td>\n      <td>Zombieland</td>\n      <td>Ruben Fleischer</td>\n      <td>Jesse Eisenberg, Woody Harrelson, Emma Stone, ...</td>\n      <td>United States</td>\n      <td>November 1, 2019</td>\n      <td>2009</td>\n      <td>R</td>\n      <td>88 min</td>\n      <td>Comedies, Horror Movies</td>\n      <td>Looking to survive in a world taken over by zo...</td>\n    </tr>\n    <tr>\n      <th>8805</th>\n      <td>s8806</td>\n      <td>Movie</td>\n      <td>Zoom</td>\n      <td>Peter Hewitt</td>\n      <td>Tim Allen, Courteney Cox, Chevy Chase, Kate Ma...</td>\n      <td>United States</td>\n      <td>January 11, 2020</td>\n      <td>2006</td>\n      <td>PG</td>\n      <td>88 min</td>\n      <td>Children &amp; Family Movies, Comedies</td>\n      <td>Dragged from civilian life, a former superhero...</td>\n    </tr>\n    <tr>\n      <th>8806</th>\n      <td>s8807</td>\n      <td>Movie</td>\n      <td>Zubaan</td>\n      <td>Mozez Singh</td>\n      <td>Vicky Kaushal, Sarah-Jane Dias, Raaghav Chanan...</td>\n      <td>India</td>\n      <td>March 2, 2019</td>\n      <td>2015</td>\n      <td>TV-14</td>\n      <td>111 min</td>\n      <td>Dramas, International Movies, Music &amp; Musicals</td>\n      <td>A scrappy but poor boy worms his way into a ty...</td>\n    </tr>\n  </tbody>\n</table>\n<p>8807 rows × 12 columns</p>\n</div>"
     },
     "execution_count": 208,
     "metadata": {},
     "output_type": "execute_result"
    }
   ],
   "source": [
    "df_netflix"
   ]
  },
  {
   "cell_type": "code",
   "execution_count": 209,
   "metadata": {},
   "outputs": [
    {
     "data": {
      "text/plain": "(8807, 12)"
     },
     "execution_count": 209,
     "metadata": {},
     "output_type": "execute_result"
    }
   ],
   "source": [
    "df_netflix.shape"
   ]
  },
  {
   "cell_type": "markdown",
   "metadata": {},
   "source": [
    "# Identify missing data"
   ]
  },
  {
   "cell_type": "code",
   "execution_count": 210,
   "metadata": {},
   "outputs": [
    {
     "data": {
      "text/plain": "show_id            0\ntype               0\ntitle              0\ndirector        2634\ncast             825\ncountry          831\ndate_added        10\nrelease_year       0\nrating             4\nduration           3\nlisted_in          0\ndescription        0\ndtype: int64"
     },
     "execution_count": 210,
     "metadata": {},
     "output_type": "execute_result"
    }
   ],
   "source": [
    "df_netflix.isnull().sum()"
   ]
  },
  {
   "cell_type": "code",
   "execution_count": 211,
   "metadata": {},
   "outputs": [
    {
     "name": "stdout",
     "output_type": "stream",
     "text": [
      "show_id: 0.0%\n",
      "type: 0.0%\n",
      "title: 0.0%\n",
      "director: 29.91%\n",
      "cast: 9.37%\n",
      "country: 9.44%\n",
      "date_added: 0.11%\n",
      "release_year: 0.0%\n",
      "rating: 0.05%\n",
      "duration: 0.03%\n",
      "listed_in: 0.0%\n",
      "description: 0.0%\n"
     ]
    }
   ],
   "source": [
    "for column in df_netflix.columns:\n",
    "    percentage = df_netflix[column].isnull().mean()\n",
    "    print(f\"{column}: {round((percentage * 100), 2)}%\")"
   ]
  },
  {
   "cell_type": "markdown",
   "metadata": {},
   "source": [
    "# Deal with the missing data"
   ]
  },
  {
   "cell_type": "code",
   "execution_count": 212,
   "metadata": {},
   "outputs": [],
   "source": [
    "# Drop only rows with NaN director by their index\n",
    "\n",
    "no_director_cells = df_netflix['director'].isnull()"
   ]
  },
  {
   "cell_type": "code",
   "execution_count": 213,
   "metadata": {},
   "outputs": [
    {
     "data": {
      "text/plain": "     show_id     type                                title director   \n1         s2  TV Show                        Blood & Water      NaN  \\\n3         s4  TV Show                Jailbirds New Orleans      NaN   \n4         s5  TV Show                         Kota Factory      NaN   \n10       s11  TV Show  Vendetta: Truth, Lies and The Mafia      NaN   \n14       s15  TV Show      Crime Stories: India Detectives      NaN   \n...      ...      ...                                  ...      ...   \n8795   s8796  TV Show                      Yu-Gi-Oh! Arc-V      NaN   \n8796   s8797  TV Show                           Yunus Emre      NaN   \n8797   s8798  TV Show                            Zak Storm      NaN   \n8800   s8801  TV Show                   Zindagi Gulzar Hai      NaN   \n8803   s8804  TV Show                          Zombie Dumb      NaN   \n\n                                                   cast   \n1     Ama Qamata, Khosi Ngema, Gail Mabalane, Thaban...  \\\n3                                                   NaN   \n4     Mayur More, Jitendra Kumar, Ranjan Raj, Alam K...   \n10                                                  NaN   \n14                                                  NaN   \n...                                                 ...   \n8795  Mike Liscio, Emily Bauer, Billy Bob Thompson, ...   \n8796  Gökhan Atalay, Payidar Tüfekçioglu, Baran Akbu...   \n8797  Michael Johnston, Jessica Gee-George, Christin...   \n8800  Sanam Saeed, Fawad Khan, Ayesha Omer, Mehreen ...   \n8803                                                NaN   \n\n                                            country          date_added   \n1                                      South Africa  September 24, 2021  \\\n3                                               NaN  September 24, 2021   \n4                                             India  September 24, 2021   \n10                                              NaN  September 24, 2021   \n14                                              NaN  September 22, 2021   \n...                                             ...                 ...   \n8795                                  Japan, Canada         May 1, 2018   \n8796                                         Turkey    January 17, 2017   \n8797  United States, France, South Korea, Indonesia  September 13, 2018   \n8800                                       Pakistan   December 15, 2016   \n8803                                            NaN        July 1, 2019   \n\n      release_year rating   duration   \n1             2021  TV-MA  2 Seasons  \\\n3             2021  TV-MA   1 Season   \n4             2021  TV-MA  2 Seasons   \n10            2021  TV-MA   1 Season   \n14            2021  TV-MA   1 Season   \n...            ...    ...        ...   \n8795          2015  TV-Y7  2 Seasons   \n8796          2016  TV-PG  2 Seasons   \n8797          2016  TV-Y7  3 Seasons   \n8800          2012  TV-PG   1 Season   \n8803          2018  TV-Y7  2 Seasons   \n\n                                              listed_in   \n1       International TV Shows, TV Dramas, TV Mysteries  \\\n3                                Docuseries, Reality TV   \n4     International TV Shows, Romantic TV Shows, TV ...   \n10    Crime TV Shows, Docuseries, International TV S...   \n14         British TV Shows, Crime TV Shows, Docuseries   \n...                                                 ...   \n8795                             Anime Series, Kids' TV   \n8796                  International TV Shows, TV Dramas   \n8797                                           Kids' TV   \n8800  International TV Shows, Romantic TV Shows, TV ...   \n8803             Kids' TV, Korean TV Shows, TV Comedies   \n\n                                            description  \n1     After crossing paths at a party, a Cape Town t...  \n3     Feuds, flirtations and toilet talk go down amo...  \n4     In a city of coaching centers known to train I...  \n10    Sicily boasts a bold \"Anti-Mafia\" coalition. B...  \n14    Cameras following Bengaluru police on the job ...  \n...                                                 ...  \n8795  Now that he's discovered the Pendulum Summonin...  \n8796  During the Mongol invasions, Yunus Emre leaves...  \n8797  Teen surfer Zak Storm is mysteriously transpor...  \n8800  Strong-willed, middle-class Kashaf and carefre...  \n8803  While living alone in a spooky town, a young g...  \n\n[2634 rows x 12 columns]",
      "text/html": "<div>\n<style scoped>\n    .dataframe tbody tr th:only-of-type {\n        vertical-align: middle;\n    }\n\n    .dataframe tbody tr th {\n        vertical-align: top;\n    }\n\n    .dataframe thead th {\n        text-align: right;\n    }\n</style>\n<table border=\"1\" class=\"dataframe\">\n  <thead>\n    <tr style=\"text-align: right;\">\n      <th></th>\n      <th>show_id</th>\n      <th>type</th>\n      <th>title</th>\n      <th>director</th>\n      <th>cast</th>\n      <th>country</th>\n      <th>date_added</th>\n      <th>release_year</th>\n      <th>rating</th>\n      <th>duration</th>\n      <th>listed_in</th>\n      <th>description</th>\n    </tr>\n  </thead>\n  <tbody>\n    <tr>\n      <th>1</th>\n      <td>s2</td>\n      <td>TV Show</td>\n      <td>Blood &amp; Water</td>\n      <td>NaN</td>\n      <td>Ama Qamata, Khosi Ngema, Gail Mabalane, Thaban...</td>\n      <td>South Africa</td>\n      <td>September 24, 2021</td>\n      <td>2021</td>\n      <td>TV-MA</td>\n      <td>2 Seasons</td>\n      <td>International TV Shows, TV Dramas, TV Mysteries</td>\n      <td>After crossing paths at a party, a Cape Town t...</td>\n    </tr>\n    <tr>\n      <th>3</th>\n      <td>s4</td>\n      <td>TV Show</td>\n      <td>Jailbirds New Orleans</td>\n      <td>NaN</td>\n      <td>NaN</td>\n      <td>NaN</td>\n      <td>September 24, 2021</td>\n      <td>2021</td>\n      <td>TV-MA</td>\n      <td>1 Season</td>\n      <td>Docuseries, Reality TV</td>\n      <td>Feuds, flirtations and toilet talk go down amo...</td>\n    </tr>\n    <tr>\n      <th>4</th>\n      <td>s5</td>\n      <td>TV Show</td>\n      <td>Kota Factory</td>\n      <td>NaN</td>\n      <td>Mayur More, Jitendra Kumar, Ranjan Raj, Alam K...</td>\n      <td>India</td>\n      <td>September 24, 2021</td>\n      <td>2021</td>\n      <td>TV-MA</td>\n      <td>2 Seasons</td>\n      <td>International TV Shows, Romantic TV Shows, TV ...</td>\n      <td>In a city of coaching centers known to train I...</td>\n    </tr>\n    <tr>\n      <th>10</th>\n      <td>s11</td>\n      <td>TV Show</td>\n      <td>Vendetta: Truth, Lies and The Mafia</td>\n      <td>NaN</td>\n      <td>NaN</td>\n      <td>NaN</td>\n      <td>September 24, 2021</td>\n      <td>2021</td>\n      <td>TV-MA</td>\n      <td>1 Season</td>\n      <td>Crime TV Shows, Docuseries, International TV S...</td>\n      <td>Sicily boasts a bold \"Anti-Mafia\" coalition. B...</td>\n    </tr>\n    <tr>\n      <th>14</th>\n      <td>s15</td>\n      <td>TV Show</td>\n      <td>Crime Stories: India Detectives</td>\n      <td>NaN</td>\n      <td>NaN</td>\n      <td>NaN</td>\n      <td>September 22, 2021</td>\n      <td>2021</td>\n      <td>TV-MA</td>\n      <td>1 Season</td>\n      <td>British TV Shows, Crime TV Shows, Docuseries</td>\n      <td>Cameras following Bengaluru police on the job ...</td>\n    </tr>\n    <tr>\n      <th>...</th>\n      <td>...</td>\n      <td>...</td>\n      <td>...</td>\n      <td>...</td>\n      <td>...</td>\n      <td>...</td>\n      <td>...</td>\n      <td>...</td>\n      <td>...</td>\n      <td>...</td>\n      <td>...</td>\n      <td>...</td>\n    </tr>\n    <tr>\n      <th>8795</th>\n      <td>s8796</td>\n      <td>TV Show</td>\n      <td>Yu-Gi-Oh! Arc-V</td>\n      <td>NaN</td>\n      <td>Mike Liscio, Emily Bauer, Billy Bob Thompson, ...</td>\n      <td>Japan, Canada</td>\n      <td>May 1, 2018</td>\n      <td>2015</td>\n      <td>TV-Y7</td>\n      <td>2 Seasons</td>\n      <td>Anime Series, Kids' TV</td>\n      <td>Now that he's discovered the Pendulum Summonin...</td>\n    </tr>\n    <tr>\n      <th>8796</th>\n      <td>s8797</td>\n      <td>TV Show</td>\n      <td>Yunus Emre</td>\n      <td>NaN</td>\n      <td>Gökhan Atalay, Payidar Tüfekçioglu, Baran Akbu...</td>\n      <td>Turkey</td>\n      <td>January 17, 2017</td>\n      <td>2016</td>\n      <td>TV-PG</td>\n      <td>2 Seasons</td>\n      <td>International TV Shows, TV Dramas</td>\n      <td>During the Mongol invasions, Yunus Emre leaves...</td>\n    </tr>\n    <tr>\n      <th>8797</th>\n      <td>s8798</td>\n      <td>TV Show</td>\n      <td>Zak Storm</td>\n      <td>NaN</td>\n      <td>Michael Johnston, Jessica Gee-George, Christin...</td>\n      <td>United States, France, South Korea, Indonesia</td>\n      <td>September 13, 2018</td>\n      <td>2016</td>\n      <td>TV-Y7</td>\n      <td>3 Seasons</td>\n      <td>Kids' TV</td>\n      <td>Teen surfer Zak Storm is mysteriously transpor...</td>\n    </tr>\n    <tr>\n      <th>8800</th>\n      <td>s8801</td>\n      <td>TV Show</td>\n      <td>Zindagi Gulzar Hai</td>\n      <td>NaN</td>\n      <td>Sanam Saeed, Fawad Khan, Ayesha Omer, Mehreen ...</td>\n      <td>Pakistan</td>\n      <td>December 15, 2016</td>\n      <td>2012</td>\n      <td>TV-PG</td>\n      <td>1 Season</td>\n      <td>International TV Shows, Romantic TV Shows, TV ...</td>\n      <td>Strong-willed, middle-class Kashaf and carefre...</td>\n    </tr>\n    <tr>\n      <th>8803</th>\n      <td>s8804</td>\n      <td>TV Show</td>\n      <td>Zombie Dumb</td>\n      <td>NaN</td>\n      <td>NaN</td>\n      <td>NaN</td>\n      <td>July 1, 2019</td>\n      <td>2018</td>\n      <td>TV-Y7</td>\n      <td>2 Seasons</td>\n      <td>Kids' TV, Korean TV Shows, TV Comedies</td>\n      <td>While living alone in a spooky town, a young g...</td>\n    </tr>\n  </tbody>\n</table>\n<p>2634 rows × 12 columns</p>\n</div>"
     },
     "execution_count": 213,
     "metadata": {},
     "output_type": "execute_result"
    }
   ],
   "source": [
    "no_director_rows = df_netflix[no_director_cells]\n",
    "no_director_rows"
   ]
  },
  {
   "cell_type": "code",
   "execution_count": 214,
   "metadata": {},
   "outputs": [
    {
     "data": {
      "text/plain": "Index([   1,    3,    4,   10,   14,   15,   17,   19,   21,   25,\n       ...\n       8775, 8780, 8783, 8784, 8785, 8795, 8796, 8797, 8800, 8803],\n      dtype='int64', length=2634)"
     },
     "execution_count": 214,
     "metadata": {},
     "output_type": "execute_result"
    }
   ],
   "source": [
    "no_director_rows.index"
   ]
  },
  {
   "cell_type": "code",
   "execution_count": 215,
   "metadata": {},
   "outputs": [],
   "source": [
    "df_netflix.drop(no_director_rows.index, axis=0,inplace=True)"
   ]
  },
  {
   "cell_type": "code",
   "execution_count": 216,
   "metadata": {},
   "outputs": [
    {
     "data": {
      "text/plain": "     show_id     type                             title   \n0         s1    Movie              Dick Johnson Is Dead  \\\n2         s3  TV Show                         Ganglands   \n5         s6  TV Show                     Midnight Mass   \n6         s7    Movie  My Little Pony: A New Generation   \n7         s8    Movie                           Sankofa   \n...      ...      ...                               ...   \n8801   s8802    Movie                           Zinzana   \n8802   s8803    Movie                            Zodiac   \n8804   s8805    Movie                        Zombieland   \n8805   s8806    Movie                              Zoom   \n8806   s8807    Movie                            Zubaan   \n\n                           director   \n0                   Kirsten Johnson  \\\n2                   Julien Leclercq   \n5                     Mike Flanagan   \n6     Robert Cullen, José Luis Ucha   \n7                      Haile Gerima   \n...                             ...   \n8801                Majid Al Ansari   \n8802                  David Fincher   \n8804                Ruben Fleischer   \n8805                   Peter Hewitt   \n8806                    Mozez Singh   \n\n                                                   cast   \n0                                                   NaN  \\\n2     Sami Bouajila, Tracy Gotoas, Samuel Jouy, Nabi...   \n5     Kate Siegel, Zach Gilford, Hamish Linklater, H...   \n6     Vanessa Hudgens, Kimiko Glenn, James Marsden, ...   \n7     Kofi Ghanaba, Oyafunmike Ogunlano, Alexandra D...   \n...                                                 ...   \n8801  Ali Suliman, Saleh Bakri, Yasa, Ali Al-Jabri, ...   \n8802  Mark Ruffalo, Jake Gyllenhaal, Robert Downey J...   \n8804  Jesse Eisenberg, Woody Harrelson, Emma Stone, ...   \n8805  Tim Allen, Courteney Cox, Chevy Chase, Kate Ma...   \n8806  Vicky Kaushal, Sarah-Jane Dias, Raaghav Chanan...   \n\n                                                country          date_added   \n0                                         United States  September 25, 2021  \\\n2                                                   NaN  September 24, 2021   \n5                                                   NaN  September 24, 2021   \n6                                                   NaN  September 24, 2021   \n7     United States, Ghana, Burkina Faso, United Kin...  September 24, 2021   \n...                                                 ...                 ...   \n8801                       United Arab Emirates, Jordan       March 9, 2016   \n8802                                      United States   November 20, 2019   \n8804                                      United States    November 1, 2019   \n8805                                      United States    January 11, 2020   \n8806                                              India       March 2, 2019   \n\n      release_year rating  duration   \n0             2020  PG-13    90 min  \\\n2             2021  TV-MA  1 Season   \n5             2021  TV-MA  1 Season   \n6             2021     PG    91 min   \n7             1993  TV-MA   125 min   \n...            ...    ...       ...   \n8801          2015  TV-MA    96 min   \n8802          2007      R   158 min   \n8804          2009      R    88 min   \n8805          2006     PG    88 min   \n8806          2015  TV-14   111 min   \n\n                                              listed_in   \n0                                         Documentaries  \\\n2     Crime TV Shows, International TV Shows, TV Act...   \n5                    TV Dramas, TV Horror, TV Mysteries   \n6                              Children & Family Movies   \n7      Dramas, Independent Movies, International Movies   \n...                                                 ...   \n8801            Dramas, International Movies, Thrillers   \n8802                     Cult Movies, Dramas, Thrillers   \n8804                            Comedies, Horror Movies   \n8805                 Children & Family Movies, Comedies   \n8806     Dramas, International Movies, Music & Musicals   \n\n                                            description  \n0     As her father nears the end of his life, filmm...  \n2     To protect his family from a powerful drug lor...  \n5     The arrival of a charismatic young priest brin...  \n6     Equestria's divided. But a bright-eyed hero be...  \n7     On a photo shoot in Ghana, an American model s...  \n...                                                 ...  \n8801  Recovering alcoholic Talal wakes up inside a s...  \n8802  A political cartoonist, a crime reporter and a...  \n8804  Looking to survive in a world taken over by zo...  \n8805  Dragged from civilian life, a former superhero...  \n8806  A scrappy but poor boy worms his way into a ty...  \n\n[6173 rows x 12 columns]",
      "text/html": "<div>\n<style scoped>\n    .dataframe tbody tr th:only-of-type {\n        vertical-align: middle;\n    }\n\n    .dataframe tbody tr th {\n        vertical-align: top;\n    }\n\n    .dataframe thead th {\n        text-align: right;\n    }\n</style>\n<table border=\"1\" class=\"dataframe\">\n  <thead>\n    <tr style=\"text-align: right;\">\n      <th></th>\n      <th>show_id</th>\n      <th>type</th>\n      <th>title</th>\n      <th>director</th>\n      <th>cast</th>\n      <th>country</th>\n      <th>date_added</th>\n      <th>release_year</th>\n      <th>rating</th>\n      <th>duration</th>\n      <th>listed_in</th>\n      <th>description</th>\n    </tr>\n  </thead>\n  <tbody>\n    <tr>\n      <th>0</th>\n      <td>s1</td>\n      <td>Movie</td>\n      <td>Dick Johnson Is Dead</td>\n      <td>Kirsten Johnson</td>\n      <td>NaN</td>\n      <td>United States</td>\n      <td>September 25, 2021</td>\n      <td>2020</td>\n      <td>PG-13</td>\n      <td>90 min</td>\n      <td>Documentaries</td>\n      <td>As her father nears the end of his life, filmm...</td>\n    </tr>\n    <tr>\n      <th>2</th>\n      <td>s3</td>\n      <td>TV Show</td>\n      <td>Ganglands</td>\n      <td>Julien Leclercq</td>\n      <td>Sami Bouajila, Tracy Gotoas, Samuel Jouy, Nabi...</td>\n      <td>NaN</td>\n      <td>September 24, 2021</td>\n      <td>2021</td>\n      <td>TV-MA</td>\n      <td>1 Season</td>\n      <td>Crime TV Shows, International TV Shows, TV Act...</td>\n      <td>To protect his family from a powerful drug lor...</td>\n    </tr>\n    <tr>\n      <th>5</th>\n      <td>s6</td>\n      <td>TV Show</td>\n      <td>Midnight Mass</td>\n      <td>Mike Flanagan</td>\n      <td>Kate Siegel, Zach Gilford, Hamish Linklater, H...</td>\n      <td>NaN</td>\n      <td>September 24, 2021</td>\n      <td>2021</td>\n      <td>TV-MA</td>\n      <td>1 Season</td>\n      <td>TV Dramas, TV Horror, TV Mysteries</td>\n      <td>The arrival of a charismatic young priest brin...</td>\n    </tr>\n    <tr>\n      <th>6</th>\n      <td>s7</td>\n      <td>Movie</td>\n      <td>My Little Pony: A New Generation</td>\n      <td>Robert Cullen, José Luis Ucha</td>\n      <td>Vanessa Hudgens, Kimiko Glenn, James Marsden, ...</td>\n      <td>NaN</td>\n      <td>September 24, 2021</td>\n      <td>2021</td>\n      <td>PG</td>\n      <td>91 min</td>\n      <td>Children &amp; Family Movies</td>\n      <td>Equestria's divided. But a bright-eyed hero be...</td>\n    </tr>\n    <tr>\n      <th>7</th>\n      <td>s8</td>\n      <td>Movie</td>\n      <td>Sankofa</td>\n      <td>Haile Gerima</td>\n      <td>Kofi Ghanaba, Oyafunmike Ogunlano, Alexandra D...</td>\n      <td>United States, Ghana, Burkina Faso, United Kin...</td>\n      <td>September 24, 2021</td>\n      <td>1993</td>\n      <td>TV-MA</td>\n      <td>125 min</td>\n      <td>Dramas, Independent Movies, International Movies</td>\n      <td>On a photo shoot in Ghana, an American model s...</td>\n    </tr>\n    <tr>\n      <th>...</th>\n      <td>...</td>\n      <td>...</td>\n      <td>...</td>\n      <td>...</td>\n      <td>...</td>\n      <td>...</td>\n      <td>...</td>\n      <td>...</td>\n      <td>...</td>\n      <td>...</td>\n      <td>...</td>\n      <td>...</td>\n    </tr>\n    <tr>\n      <th>8801</th>\n      <td>s8802</td>\n      <td>Movie</td>\n      <td>Zinzana</td>\n      <td>Majid Al Ansari</td>\n      <td>Ali Suliman, Saleh Bakri, Yasa, Ali Al-Jabri, ...</td>\n      <td>United Arab Emirates, Jordan</td>\n      <td>March 9, 2016</td>\n      <td>2015</td>\n      <td>TV-MA</td>\n      <td>96 min</td>\n      <td>Dramas, International Movies, Thrillers</td>\n      <td>Recovering alcoholic Talal wakes up inside a s...</td>\n    </tr>\n    <tr>\n      <th>8802</th>\n      <td>s8803</td>\n      <td>Movie</td>\n      <td>Zodiac</td>\n      <td>David Fincher</td>\n      <td>Mark Ruffalo, Jake Gyllenhaal, Robert Downey J...</td>\n      <td>United States</td>\n      <td>November 20, 2019</td>\n      <td>2007</td>\n      <td>R</td>\n      <td>158 min</td>\n      <td>Cult Movies, Dramas, Thrillers</td>\n      <td>A political cartoonist, a crime reporter and a...</td>\n    </tr>\n    <tr>\n      <th>8804</th>\n      <td>s8805</td>\n      <td>Movie</td>\n      <td>Zombieland</td>\n      <td>Ruben Fleischer</td>\n      <td>Jesse Eisenberg, Woody Harrelson, Emma Stone, ...</td>\n      <td>United States</td>\n      <td>November 1, 2019</td>\n      <td>2009</td>\n      <td>R</td>\n      <td>88 min</td>\n      <td>Comedies, Horror Movies</td>\n      <td>Looking to survive in a world taken over by zo...</td>\n    </tr>\n    <tr>\n      <th>8805</th>\n      <td>s8806</td>\n      <td>Movie</td>\n      <td>Zoom</td>\n      <td>Peter Hewitt</td>\n      <td>Tim Allen, Courteney Cox, Chevy Chase, Kate Ma...</td>\n      <td>United States</td>\n      <td>January 11, 2020</td>\n      <td>2006</td>\n      <td>PG</td>\n      <td>88 min</td>\n      <td>Children &amp; Family Movies, Comedies</td>\n      <td>Dragged from civilian life, a former superhero...</td>\n    </tr>\n    <tr>\n      <th>8806</th>\n      <td>s8807</td>\n      <td>Movie</td>\n      <td>Zubaan</td>\n      <td>Mozez Singh</td>\n      <td>Vicky Kaushal, Sarah-Jane Dias, Raaghav Chanan...</td>\n      <td>India</td>\n      <td>March 2, 2019</td>\n      <td>2015</td>\n      <td>TV-14</td>\n      <td>111 min</td>\n      <td>Dramas, International Movies, Music &amp; Musicals</td>\n      <td>A scrappy but poor boy worms his way into a ty...</td>\n    </tr>\n  </tbody>\n</table>\n<p>6173 rows × 12 columns</p>\n</div>"
     },
     "execution_count": 216,
     "metadata": {},
     "output_type": "execute_result"
    }
   ],
   "source": [
    "df_netflix"
   ]
  },
  {
   "cell_type": "code",
   "execution_count": 217,
   "metadata": {},
   "outputs": [
    {
     "data": {
      "text/plain": "0    TV-MA\nName: rating, dtype: object"
     },
     "execution_count": 217,
     "metadata": {},
     "output_type": "execute_result"
    }
   ],
   "source": [
    "# Replace NaN with fillna()\n",
    "\n",
    "most_frequent_rating = df_netflix['rating'].mode()\n",
    "most_frequent_rating"
   ]
  },
  {
   "cell_type": "code",
   "execution_count": 218,
   "outputs": [
    {
     "data": {
      "text/plain": "pandas.core.series.Series"
     },
     "execution_count": 218,
     "metadata": {},
     "output_type": "execute_result"
    }
   ],
   "source": [
    "type(most_frequent_rating)"
   ],
   "metadata": {
    "collapsed": false
   }
  },
  {
   "cell_type": "code",
   "execution_count": 219,
   "outputs": [],
   "source": [
    "most_frequent_rating_as_str = ''.join(most_frequent_rating)"
   ],
   "metadata": {
    "collapsed": false
   }
  },
  {
   "cell_type": "code",
   "execution_count": 220,
   "outputs": [],
   "source": [
    "df_netflix['rating'].fillna(most_frequent_rating_as_str, inplace=True)"
   ],
   "metadata": {
    "collapsed": false
   }
  },
  {
   "cell_type": "code",
   "execution_count": 221,
   "outputs": [
    {
     "data": {
      "text/plain": "0"
     },
     "execution_count": 221,
     "metadata": {},
     "output_type": "execute_result"
    }
   ],
   "source": [
    "df_netflix['rating'].isnull().sum()"
   ],
   "metadata": {
    "collapsed": false
   }
  },
  {
   "cell_type": "code",
   "execution_count": 222,
   "outputs": [
    {
     "data": {
      "text/plain": "0       PG-13\n2       TV-MA\n5       TV-MA\n6          PG\n7       TV-MA\n        ...  \n8801    TV-MA\n8802        R\n8804        R\n8805       PG\n8806    TV-14\nName: rating, Length: 6173, dtype: object"
     },
     "execution_count": 222,
     "metadata": {},
     "output_type": "execute_result"
    }
   ],
   "source": [
    "# Replace by arbitrary  number\n",
    "\n",
    "df_netflix['rating'].fillna(0)"
   ],
   "metadata": {
    "collapsed": false
   }
  },
  {
   "cell_type": "code",
   "execution_count": null,
   "outputs": [],
   "source": [
    "# Replace with backward/forward value\n",
    "\n",
    "\n",
    "\n"
   ],
   "metadata": {
    "collapsed": false
   }
  }
 ],
 "metadata": {
  "kernelspec": {
   "display_name": "Python 3 (ipykernel)",
   "language": "python",
   "name": "python3"
  },
  "language_info": {
   "codemirror_mode": {
    "name": "ipython",
    "version": 3
   },
   "file_extension": ".py",
   "mimetype": "text/x-python",
   "name": "python",
   "nbconvert_exporter": "python",
   "pygments_lexer": "ipython3",
   "version": "3.8.8"
  }
 },
 "nbformat": 4,
 "nbformat_minor": 1
}
